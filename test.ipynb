{
 "cells": [
  {
   "cell_type": "code",
   "execution_count": null,
   "metadata": {},
   "outputs": [],
   "source": [
    "import pandas as pd\n",
    "\n",
    "# Cargar archivos\n",
    "sales_df = pd.read_csv(\"catusita_sales.csv\", low_memory=False)\n",
    "metas_df = pd.read_excel(\"metas.xlsx\")\n",
    "\n",
    "# Merge por fuente_suministro con prioridad a catusita_sales\n",
    "merged_df = sales_df.merge(metas_df, on=\"fuente_suministro\", how=\"left\")\n",
    "\n",
    "# Reemplazo de NaN dependiendo de la variable\n",
    "merged_df[\"familia\"] = merged_df[\"familia\"].fillna(\"Desconocido\")\n",
    "merged_df[\"segmento\"] = merged_df[\"segmento\"].fillna(\"Desconocido\")\n",
    "merged_df[\"marca\"] = merged_df[\"marca\"].fillna(\"Desconocido\")\n",
    "merged_df[\"gestor\"] = merged_df[\"gestor\"].fillna(\"Desconocido\")\n",
    "merged_df[\"meta\"] = merged_df[\"meta\"].fillna(0)\n",
    "\n",
    "# Guardar archivo resultante\n",
    "merged_df.to_csv(\"catusita_sales_merge.csv\", index=False)\n"
   ]
  },
  {
   "cell_type": "code",
   "execution_count": null,
   "metadata": {},
   "outputs": [],
   "source": []
  }
 ],
 "metadata": {
  "kernelspec": {
   "display_name": "Python 3",
   "language": "python",
   "name": "python3"
  },
  "language_info": {
   "codemirror_mode": {
    "name": "ipython",
    "version": 3
   },
   "file_extension": ".py",
   "mimetype": "text/x-python",
   "name": "python",
   "nbconvert_exporter": "python",
   "pygments_lexer": "ipython3",
   "version": "3.12.8"
  }
 },
 "nbformat": 4,
 "nbformat_minor": 2
}
