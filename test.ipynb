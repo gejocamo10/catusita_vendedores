{
 "cells": [
  {
   "cell_type": "code",
   "execution_count": 15,
   "metadata": {},
   "outputs": [
    {
     "name": "stdout",
     "output_type": "stream",
     "text": [
      "Index(['Unnamed: 0', 'fecha', 'documento', 'articulo', 'nombre_articulo',\n",
      "       'codigo', 'fuente_suministro', 'cliente', 'nombre_cliente',\n",
      "       'ruc_cliente', 'vendedor', 'nombre_vendedor', 'cantidad', 'venta_pen',\n",
      "       'venta_usd', 'costo', 'tipo_transaccion'],\n",
      "      dtype='object')\n",
      "Index(['cia', 'fecha', 'cliente', 'nombre_cliente', 'rubro', 'departamento',\n",
      "       'documento', 'articulo', 'nombre_articulo', 'fuente_suministro',\n",
      "       'cantidad', 'venta_usd', 'venta_pen', 'costo', 'nombre_vendedor',\n",
      "       'cobrador'],\n",
      "      dtype='object')\n"
     ]
    }
   ],
   "source": [
    "import pandas as pd\n",
    "df_nuevo = pd.read_csv(\"df_sales_diciembre_cleaned.csv\")\n",
    "df_antiguo = pd.read_csv(\"df_antiguo.csv\")\n",
    "df_nuevo[\"fecha\"] = pd.to_datetime(df_nuevo[\"fecha\"], errors=\"coerce\")\n",
    "df_antiguo[\"fecha\"] = pd.to_datetime(df_antiguo[\"fecha\"], errors=\"coerce\")\n",
    "print(df_nuevo.columns)\n",
    "print(df_antiguo.columns)"
   ]
  },
  {
   "cell_type": "code",
   "execution_count": 19,
   "metadata": {},
   "outputs": [],
   "source": [
    "# Corregir el problema de formato en 'year-month'\n",
    "df_antiguo = df_antiguo.dropna(subset=[\"fecha\"])\n",
    "df_antiguo[\"year-month\"] = df_antiguo['fecha'].dt.year.astype(int).astype(str) + \"-\" + df_antiguo['fecha'].dt.month.astype(str).str.zfill(2)\n",
    "df_nuevo[\"year-month\"] = df_nuevo['fecha'].dt.year.astype(int).astype(str) + \"-\" + df_nuevo['fecha'].dt.month.astype(str).str.zfill(2)\n"
   ]
  },
  {
   "cell_type": "code",
   "execution_count": 22,
   "metadata": {},
   "outputs": [
    {
     "data": {
      "text/plain": [
       "17867"
      ]
     },
     "execution_count": 22,
     "metadata": {},
     "output_type": "execute_result"
    }
   ],
   "source": [
    "len(df_antiguo[df_antiguo['year-month']=='2024-11'])"
   ]
  },
  {
   "cell_type": "code",
   "execution_count": null,
   "metadata": {},
   "outputs": [
    {
     "data": {
      "text/plain": [
       "17867"
      ]
     },
     "execution_count": 23,
     "metadata": {},
     "output_type": "execute_result"
    }
   ],
   "source": [
    "len(df_nuevo[df_nuevo['year-month']=='2024-11'])"
   ]
  },
  {
   "cell_type": "code",
   "execution_count": 29,
   "metadata": {},
   "outputs": [],
   "source": [
    "df_antiguo[(df_antiguo['year-month']=='2024-11') & (df_antiguo['nombre_vendedor']=='Alarcon Altamirano Pepe')].to_csv(\"data_comparacion_antigua.csv\")"
   ]
  },
  {
   "cell_type": "code",
   "execution_count": 33,
   "metadata": {},
   "outputs": [],
   "source": [
    "df_nuevo[(df_nuevo['year-month']=='2024-11') & (df_nuevo['nombre_vendedor']=='Alarcon Altamirano Pepe')].to_csv(\"data_comparacion_nueva.csv\")"
   ]
  }
 ],
 "metadata": {
  "kernelspec": {
   "display_name": "Python 3",
   "language": "python",
   "name": "python3"
  },
  "language_info": {
   "codemirror_mode": {
    "name": "ipython",
    "version": 3
   },
   "file_extension": ".py",
   "mimetype": "text/x-python",
   "name": "python",
   "nbconvert_exporter": "python",
   "pygments_lexer": "ipython3",
   "version": "3.12.8"
  }
 },
 "nbformat": 4,
 "nbformat_minor": 2
}
